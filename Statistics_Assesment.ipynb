{
 "cells": [
  {
   "cell_type": "code",
   "execution_count": null,
   "id": "1498e05d",
   "metadata": {},
   "outputs": [],
   "source": []
  },
  {
   "cell_type": "raw",
   "id": "d237f2b2",
   "metadata": {},
   "source": [
    "# Q-1. A university wants to understand the relationship between the SAT scores of its\n",
    "applicants and their college GPA. They collect data on 500 students, including their SAT\n",
    "scores (out of 1600) and their college GPA (on a 4.0 scale). They find that the correlation\n",
    "coefficient between SAT scores and college GPA is 0.7. What does this correlation\n",
    "coefficient indicate about the relationship between SAT scores and college GPA?\n",
    "Answer:\n",
    "    A correlation coefficient of 0.7 indicates a strong positive linear relationship between SAT scores and college GPA for the given dataset of 500 students.\n",
    "\n",
    "The correlation coefficient ranges from -1 to +1. A value of 1 indicates a perfect positive linear relationship, where an increase in one variable corresponds to an exact increase in the other variable. A value of -1 indicates a perfect negative linear relationship, where an increase in one variable corresponds to an exact decrease in the other variable. A correlation coefficient of 0 indicates no linear relationship between the variables.\n",
    "\n",
    "In this case, a correlation coefficient of 0.7 suggests a strong positive linear relationship between SAT scores and college GPA. It means that as SAT scores increase, college GPA tends to increase as well. The magnitude of 0.7 indicates a relatively strong correlation, meaning that the relationship is consistent and predictable.\n",
    "\n",
    "However, it is important to note that correlation does not imply causation. While a strong correlation between SAT scores and college GPA suggests a relationship, it does not necessarily mean that SAT scores directly cause higher GPAs. Other factors could be influencing both variables or contributing to the observed relationship."
   ]
  },
  {
   "cell_type": "raw",
   "id": "77975bba",
   "metadata": {},
   "source": [
    "Q-2. Consider a dataset containing the heights (in centimeters) of 1000 individuals. The mean height is 170 cm with a standard deviation of 10 cm. The dataset is approximately\n",
    "normally distributed, and its skewness is approximately zero. Based on this information, answer the following questions:\n",
    "a. What percentage of individuals in the dataset have heights between 160 cm and 180 cm?\n",
    "b. If we randomly select 100 individuals from the dataset, what is the probability that their average height is greater than 175 cm?\n",
    "c. Assuming the dataset follows a normal distribution, what is the z-score corresponding to a height of 185 cm?\n",
    "d. We know that 5% of the dataset has heights below a certain value. What is the approximate height corresponding to this threshold?\n",
    "e. Calculate the coefficient of variation (CV) for the dataset.\n",
    "f. Calculate the skewness of the dataset and interpret the result.\n",
    "\n",
    "Ans: a. To find the percentage of individuals with heights between 160 cm and 180 cm, we need to calculate the z-scores for both heights and then find the area under the normal distribution curve between these z-scores.\n",
    "\n",
    "The z-score formula is given by: z = (x - μ) / σ\n",
    "\n",
    "For a height of 160 cm:\n",
    "z1 = (160 - 170) / 10 = -1\n",
    "\n",
    "For a height of 180 cm:\n",
    "z2 = (180 - 170) / 10 = 1\n",
    "\n",
    "Now we need to find the area under the curve between z1 and z2. Since the skewness is approximately zero, we can assume a symmetrical normal distribution.\n",
    "\n",
    "Using a standard normal distribution table or a calculator, we can find the area corresponding to z = -1 and z = 1.\n",
    "\n",
    "The area to the left of z = -1 is 0.1587, and the area to the left of z = 1 is 0.8413.\n",
    "\n",
    "The percentage of individuals with heights between 160 cm and 180 cm is approximately:\n",
    "Percentage = (0.8413 - 0.1587) * 100% = 68.26%\n",
    "\n",
    "Therefore, approximately 68.26% of individuals in the dataset have heights between 160 cm and 180 cm.\n",
    "\n",
    "b. To find the probability that the average height of 100 randomly selected individuals is greater than 175 cm, we need to consider the distribution of the sample means.\n",
    "\n",
    "The mean of the sample means will still be 170 cm (same as the population mean), but the standard deviation of the sample means, also known as the standard error, will be the population standard deviation divided by the square root of the sample size.\n",
    "\n",
    "The standard error (SE) = σ / sqrt(n) = 10 / sqrt(100) = 1\n",
    "\n",
    "Now, we can calculate the z-score for a sample mean of 175 cm:\n",
    "z = (x - μ) / SE = (175 - 170) / 1 = 5\n",
    "\n",
    "Using a standard normal distribution table or a calculator, we can find the area to the right of z = 5.\n",
    "\n",
    "The area to the right of z = 5 is very close to 0. Therefore, the probability that the average height of 100 individuals is greater than 175 cm is approximately 0%.\n",
    "\n",
    "c. To find the z-score corresponding to a height of 185 cm, we can use the same formula as before:\n",
    "\n",
    "z = (x - μ) / σ = (185 - 170) / 10 = 1.5\n",
    "\n",
    "The z-score corresponding to a height of 185 cm is 1.5.\n",
    "\n",
    "d. To find the height corresponding to a threshold of 5%, we need to find the z-score that corresponds to a cumulative probability of 0.05 (5%) in the standard normal distribution.\n",
    "\n",
    "Using a standard normal distribution table or a calculator, we can find the z-score corresponding to a cumulative probability of 0.05, which is approximately -1.645.\n",
    "\n",
    "Now we can use the z-score formula to find the height (x) corresponding to this z-score:\n",
    "\n",
    "-1.645 = (x - 170) / 10\n",
    "\n",
    "Solving for x, we get:\n",
    "\n",
    "x = -1.645 * 10 + 170 = 153.55\n",
    "\n",
    "Therefore, the approximate height corresponding to the threshold of 5% is 153.55 cm.\n",
    "\n",
    "e. The coefficient of variation (CV) is a measure of relative variability and is calculated as the ratio of the standard deviation to the mean, expressed as a percentage.\n",
    "\n",
    "CV = (σ / μ) * 100 \n",
    "   = (10 / 170) * 100 \n",
    "   = 5.88%\n",
    "\n",
    "Therefore, the coefficient of variation (CV) for the dataset is approximately 5.88%.\n",
    "\n",
    "f. Skewness is a measure of the asymmetry of a distribution. A skewness of approximately zero indicates that the dataset is symmetrically distributed.\n",
    "\n",
    "To calculate skewness, we can use the formula:\n",
    "\n",
    "Skewness = (3 * (Mean - Median)) / Standard Deviation\n",
    "\n",
    "Since the dataset is approximately normally distributed and has a skewness of approximately zero, the mean, median, and mode are all equal.\n",
    "\n",
    "Mean = 170 cm\n",
    "\n",
    "Median = 170 cm\n",
    "\n",
    "Mode = 170 cm\n",
    "\n",
    "Substituting these values into the formula, we get:\n",
    "\n",
    "Skewness = (3 * (170 - 170)) / 10 = 0\n",
    "\n",
    "The skewness of the dataset is 0, indicating that it is symmetrically distributed."
   ]
  },
  {
   "cell_type": "raw",
   "id": "2039437a",
   "metadata": {},
   "source": [
    "Q-2. Consider a dataset containing the heights (in centimeters) of 1000 individuals. The mean height is 170 cm with a standard deviation of 10 cm. The dataset is approximately normally distributed, and its skewness is approximately zero. Based on this information, answer the following questions:\n",
    "a. What percentage of individuals in the dataset have heights between 160 cm and 180 cm?\n",
    "\n",
    "b. If we randomly select 100 individuals from the dataset, what is the probability that their average height is greater than 175 cm?\n",
    "\n",
    "c. Assuming the dataset follows a normal distribution, what is the z-score corresponding to a height of 185 cm?\n",
    "\n",
    "d. We know that 5% of the dataset has heights below a certain value. What is the approximate height corresponding to this threshold?\n",
    "\n",
    "e. Calculate the coefficient of variation (CV) for the dataset.\n",
    "\n",
    "f. Calculate the skewness of the dataset and interpret the result.\n"
   ]
  },
  {
   "cell_type": "code",
   "execution_count": 7,
   "id": "8ccf27e1",
   "metadata": {},
   "outputs": [
    {
     "name": "stdout",
     "output_type": "stream",
     "text": [
      "68.26894921370858\n"
     ]
    }
   ],
   "source": [
    "#a\n",
    "import scipy.stats as stats\n",
    "\n",
    "mean = 170\n",
    "std_dev = 10\n",
    "\n",
    "percentage = (stats.norm.cdf(180, mean, std_dev) - stats.norm.cdf(160, mean, std_dev)) * 100\n",
    "print(percentage)"
   ]
  },
  {
   "cell_type": "code",
   "execution_count": 8,
   "id": "a41a2260",
   "metadata": {},
   "outputs": [
    {
     "name": "stdout",
     "output_type": "stream",
     "text": [
      "2.866515719235352e-07\n"
     ]
    }
   ],
   "source": [
    "#b\n",
    "sample_size = 100\n",
    "sample_mean = mean\n",
    "sample_std_dev = std_dev / (sample_size ** 0.5)\n",
    "\n",
    "probability = 1 - stats.norm.cdf(175, sample_mean, sample_std_dev)\n",
    "print(probability)"
   ]
  },
  {
   "cell_type": "code",
   "execution_count": 9,
   "id": "b6589564",
   "metadata": {},
   "outputs": [
    {
     "name": "stdout",
     "output_type": "stream",
     "text": [
      "1.5\n"
     ]
    }
   ],
   "source": [
    "#c\n",
    "z_score = (185 - mean) / std_dev\n",
    "print(z_score)"
   ]
  },
  {
   "cell_type": "code",
   "execution_count": 10,
   "id": "2de4e531",
   "metadata": {},
   "outputs": [
    {
     "name": "stdout",
     "output_type": "stream",
     "text": [
      "153.55146373048527\n"
     ]
    }
   ],
   "source": [
    "#d\n",
    "height = stats.norm.ppf(0.05, mean, std_dev)\n",
    "print(height)"
   ]
  },
  {
   "cell_type": "code",
   "execution_count": 11,
   "id": "949b21f2",
   "metadata": {},
   "outputs": [
    {
     "name": "stdout",
     "output_type": "stream",
     "text": [
      "5.88235294117647\n"
     ]
    }
   ],
   "source": [
    "#e\n",
    "cv = (std_dev / mean) * 100\n",
    "print(cv)"
   ]
  },
  {
   "cell_type": "raw",
   "id": "71b36b0b",
   "metadata": {},
   "source": [
    "# f\n",
    "The skewness of a dataset measures the asymmetry of its distribution. A skewness value of approximately zero indicates that the dataset is symmetric and does not have a significant tail on either side. In other words, the dataset's distribution is relatively balanced around the mean."
   ]
  },
  {
   "cell_type": "raw",
   "id": "00736951",
   "metadata": {},
   "source": [
    "Q-3. Consider the ‘Blood Pressure Before’ and ‘Blood Pressure After’ columns from the\n",
    "data and calculate the following\n",
    "https://drive.google.com/file/d/1mCjtYHiX--mMUjicuaP2gH3k-SnFxt8Y/view?usp=share_\n",
    "a. Measure the dispersion in both and interpret the results.\n",
    "b. Calculate mean and 5% confidence interval and plot it in a graph\n",
    "c. Calculate the Mean absolute deviation and Standard deviation and interpret\n",
    "the results.\n",
    "d. Calculate the correlation coefficient and check the significance of it at 1% level\n",
    "of significance."
   ]
  },
  {
   "cell_type": "code",
   "execution_count": 24,
   "id": "491011d0",
   "metadata": {},
   "outputs": [
    {
     "name": "stdout",
     "output_type": "stream",
     "text": [
      "Variance before: 43.53727272727271 Variance after: 47.4448484848485\n"
     ]
    }
   ],
   "source": [
    "#a. Measure the dispersion in both and interpret the results.\n",
    "#Sol-\n",
    "import pandas as pd\n",
    "df=pd.read_csv(r\"data.csv\")\n",
    "before_variance = df[\" Blood Pressure Before (mmHg)\"].var()\n",
    "after_variance = df[\" Blood Pressure After (mmHg)\"].var()\n",
    "print(\"Variance before:\",before_variance,\"Variance after:\",after_variance)"
   ]
  },
  {
   "cell_type": "code",
   "execution_count": 26,
   "id": "8db2bae9",
   "metadata": {},
   "outputs": [
    {
     "name": "stderr",
     "output_type": "stream",
     "text": [
      "C:\\ProgramData\\Anaconda3\\lib\\site-packages\\numpy\\core\\fromnumeric.py:3438: FutureWarning: In a future version, DataFrame.mean(axis=None) will return a scalar mean over the entire DataFrame. To retain the old behavior, use 'frame.mean(axis=0)' or just 'frame.mean()'\n",
      "  return mean(axis=axis, dtype=dtype, out=out, **kwargs)\n"
     ]
    },
    {
     "name": "stdout",
     "output_type": "stream",
     "text": [
      "Mean: Patient ID                        50.50\n",
      " Blood Pressure Before (mmHg)    133.91\n",
      " Blood Pressure After (mmHg)     128.36\n",
      "dtype: float64\n",
      "Confidence Interval (95%): (array([ 44.74349058, 132.60075849, 126.99326698]), array([ 56.25650942, 135.21924151, 129.72673302]))\n"
     ]
    },
    {
     "data": {
      "image/png": "[encoded data removed]",
      "text/plain": [
       "<Figure size 640x480 with 1 Axes>"
      ]
     },
     "metadata": {},
     "output_type": "display_data"
    }
   ],
   "source": [
    "#b\n",
    "import numpy as np\n",
    "import matplotlib.pyplot as plt\n",
    "from scipy import stats\n",
    "mean = np.mean(df)\n",
    "confidence_interval = stats.t.interval(0.95, len(df) - 1, loc=mean, scale=stats.sem(df))\n",
    "print(\"Mean:\", mean)\n",
    "print(\"Confidence Interval (95%):\", confidence_interval)\n",
    "#plotting in a bar graph\n",
    "plt.figure()\n",
    "plt.bar(x=1, height=mean, color='red')\n",
    "plt.xticks([])\n",
    "plt.xlim(0.5, 1.5)\n",
    "plt.ylabel(\"Values\")\n",
    "plt.title(\"Mean and 5% Confidence Interval\")\n",
    "plt.show()"
   ]
  },
  {
   "cell_type": "code",
   "execution_count": 27,
   "id": "b4832cfc",
   "metadata": {},
   "outputs": [
    {
     "name": "stdout",
     "output_type": "stream",
     "text": [
      "Mean absolute deviation Patient ID                       25.0000\n",
      " Blood Pressure Before (mmHg)     5.7118\n",
      " Blood Pressure After (mmHg)      5.9000\n",
      "dtype: float64\n",
      "standard deviation Patient ID                       28.866070\n",
      " Blood Pressure Before (mmHg)     6.565204\n",
      " Blood Pressure After (mmHg)      6.853495\n",
      "dtype: float64\n"
     ]
    }
   ],
   "source": [
    "#c\n",
    "ms = np.mean(np.abs(df - np.mean(df)))\n",
    "sd = np.std(df)\n",
    "print(\"Mean absolute deviation\",ms)\n",
    "print(\"standard deviation\",sd)"
   ]
  },
  {
   "cell_type": "code",
   "execution_count": 28,
   "id": "e7c90119",
   "metadata": {},
   "outputs": [
    {
     "name": "stdout",
     "output_type": "stream",
     "text": [
      "Correlation Coefficient: 0.9779485966556019\n",
      "p-value: 1.8097381433068541e-68\n",
      "The correlation coefficient is significant at the 1% level.\n"
     ]
    }
   ],
   "source": [
    "#d\n",
    "variable1 = df[' Blood Pressure Before (mmHg)']\n",
    "variable2 = df[' Blood Pressure After (mmHg)']\n",
    "\n",
    "# Calculate the correlation coefficient and p-value\n",
    "correlation_coefficient, p_value = stats.pearsonr(variable1, variable2)\n",
    "\n",
    "# Print the correlation coefficient and p-value\n",
    "print(\"Correlation Coefficient:\", correlation_coefficient)\n",
    "print(\"p-value:\", p_value)\n",
    "\n",
    "# Check the significance at 1% level\n",
    "if p_value < 0.01:\n",
    "    print(\"The correlation coefficient is significant at the 1% level.\")\n",
    "else:\n",
    "    print(\"The correlation coefficient is not significant at the 1% level.\")"
   ]
  },
  {
   "cell_type": "raw",
   "id": "e2b9ff0f",
   "metadata": {},
   "source": [
    "Q-4. A group of 20 friends decide to play a game in which they each write a number\n",
    "between 1 and 20 on a slip of paper and put it into a hat. They then draw one slip of paper\n",
    "at random. What is the probability that the number on the slip of paper is a perfect square\n",
    "(i.e., 1, 4, 9, or 16)?\n",
    "Answer:\n",
    "\n",
    "The total number of possible outcomes is 20, as there are 20 slips of paper with numbers from 1 to 20.\n",
    "\n",
    "The number of favorable outcomes is 4, as there are 4 perfect square numbers within that range (1, 4, 9, and 16).\n",
    "\n",
    "Therefore, the probability can be calculated as:\n",
    "\n",
    "Probability = Number of favorable outcomes / Total number of possible outcomes\n",
    "= 4 / 20\n",
    "= 0.2\n",
    "\n",
    "Hence, the probability of drawing a perfect square number from the hat is 0.2 or 20%."
   ]
  },
  {
   "cell_type": "raw",
   "id": "3af5b216",
   "metadata": {},
   "source": [
    "Q.5.A certain city has two taxi companies: Company A has 80% of the taxis and\n",
    "Company B has 20% of the taxis. Company A's taxis have a 95% success rate for picking\n",
    "up passengers on time, while Company B's taxis have a 90% success rate. If a randomly\n",
    "selected taxi is late, what is the probability that it belongs to Company A?\n",
    "Answer:\n",
    "    \n",
    "Let's denote the following:\n",
    "A: Taxi belongs to Company A\n",
    "B: Taxi belongs to Company B\n",
    "L: Taxi is late\n",
    "\n",
    "P(A|L)represents the probability that the taxi belongs to Company A given that it is late.\n",
    "\n",
    "According to the problem statement, Company A has 80% of the taxis, so P(A) = 0.8, and\n",
    "Company B has 20% of the taxis, so P(B) = 0.2.\n",
    "\n",
    "The success rate for picking up passengers on time for Company A's taxis is 95%,\n",
    "so the probability of a taxi from Company A being on time is P(L|A) = 0.95. \n",
    "Similarly, the success rate for Company B's taxis is 90%, \n",
    "so the probability of a taxi from Company B being on time is P(L|B) = 0.90.\n",
    "\n",
    "Now, we can use Bayes' theorem:\n",
    "\n",
    "P(A|L) = (P(L|A) * P(A)) / (P(L|A) * P(A) + P(L|B) * P(B))\n",
    "\n",
    "P(A|L) = (0.95 * 0.8) / (0.95 * 0.8 + 0.90 * 0.2)\n",
    "\n",
    "Calculating this expression:\n",
    "\n",
    "P(A|L) = 0.76 / (0.76 + 0.18)\n",
    "\n",
    "P(A|L) = 0.76 / 0.94\n",
    "\n",
    "P(A|L) ≈ 0.8085\n",
    "\n",
    "Therefore, the probability that a randomly selected late taxi belongs to Company A is approximately 0.8085, or 80.85%"
   ]
  },
  {
   "cell_type": "raw",
   "id": "0c21161b",
   "metadata": {},
   "source": [
    "Q-6. A pharmaceutical company is developing a drug that is supposed to reduce blood\n",
    "pressure. They conduct a clinical trial with 100 patients and record their blood\n",
    "pressure before and after taking the drug. The company wants to know if the change\n",
    "in blood pressure follows a normal distribution.\n",
    "https://drive.google.com/file/d/1mCjtYHiX--mMUjicuaP2gH3k-SnFxt8Y/view?usp=share_\n",
    "    "
   ]
  },
  {
   "cell_type": "code",
   "execution_count": 32,
   "id": "dff9d58e",
   "metadata": {},
   "outputs": [
    {
     "data": {
      "image/png": "[encoded data removed]",
      "text/plain": [
       "<Figure size 640x480 with 1 Axes>"
      ]
     },
     "metadata": {},
     "output_type": "display_data"
    }
   ],
   "source": [
    "# Answer:# Calculate the change in blood pressure\n",
    "change_in_bp =df[' Blood Pressure After (mmHg)'] - df[' Blood Pressure Before (mmHg)']\n",
    "\n",
    "# Plot a histogram of the change in blood pressure\n",
    "plt.hist(change_in_bp, bins=10, edgecolor='black')\n",
    "plt.xlabel(\"Change in Blood Pressure (mmHg)\")\n",
    "plt.ylabel(\"Frequency\")\n",
    "plt.title(\"Distribution of Change in Blood Pressure\")\n",
    "plt.show()"
   ]
  },
  {
   "cell_type": "raw",
   "id": "c1ffab18",
   "metadata": {},
   "source": [
    "Q.7.The equations of two lines of regression, obtained in a correlation analysis\n",
    "between variables X and Y are as follows:\n",
    "and . 2𝑋 + 3 − 8 = 0 2𝑌 + 𝑋 − 5 = 0 The variance of 𝑋 = 4 Find the\n",
    "a. Variance of Y\n",
    "b. Coefficient of determination of C and Y\n",
    "c. Standard error of estimate of X on Y and of Y on X.\n",
    "To calculate the variance of Y, coefficient of determination (R^2), and the standard error of estimate for X on Y and Y on X, we need additional information such as the sample size, the values of X, and the values of Y. Without this information, it is not possible to provide the exact calculations. However, I can explain the general formulas and concepts involved.\n",
    "Answer:\n",
    "Given the equations of the regression lines:\n",
    "\n",
    "2𝑋 + 3 − 8 = 0 (Equation 1)\n",
    "𝑋 + 2𝑌 − 5 = 0 (Equation 2)\n",
    "\n",
    "We can rewrite Equation 1 as:\n",
    "2𝑋 − 5 = 0\n",
    "2𝑋 = 5\n",
    "𝑋 = 2.5\n",
    "\n",
    "Substituting 𝑋 = 2.5 into Equation 2:\n",
    "2.5 + 2𝑌 − 5 = 0\n",
    "2𝑌 = 2.5 − 2.5\n",
    "2𝑌 = 0\n",
    "𝑌 = 0\n",
    "\n",
    "a. Variance of Y:\n",
    "Since 𝑌 = 0 for all data points, the variance of Y is zero.\n",
    "\n",
    "b. Coefficient of determination of X and Y (R²):\n",
    "To calculate the coefficient of determination, we need to find the correlation coefficient (r). Since we don't have the correlation coefficient given, we cannot calculate the coefficient of determination (R²) without it.\n",
    "\n",
    "c. Standard error of estimate of X on Y and Y on X:\n",
    "To calculate the standard error of estimate, we also need the correlation coefficient (r). Without it, we cannot calculate the standard errors."
   ]
  },
  {
   "cell_type": "code",
   "execution_count": null,
   "id": "58e1dfce",
   "metadata": {},
   "outputs": [],
   "source": [
    "Q-8. The anxiety levels of 10 participants were measured before and after a new therapy.\n",
    "The scores are not normally distributed. Use the Wilcoxon signed-rank test to test whether\n",
    "the therapy had a significant effect on anxiety levels. The data is given below: Participant\n",
    "Before therapy After therapy Difference"
   ]
  },
  {
   "cell_type": "code",
   "execution_count": 33,
   "id": "207353f8",
   "metadata": {},
   "outputs": [
    {
     "name": "stdout",
     "output_type": "stream",
     "text": [
      "   Participant  Before therapy  After therapy  Difference\n",
      "0            1              10              7          -3\n",
      "1            2               8              6          -2\n",
      "2            3              12             10          -2\n",
      "3            4              15             12          -3\n",
      "4            5               6              5          -1\n",
      "5            6               9              8          -1\n",
      "6            7              11              9          -2\n",
      "7            8               7              6          -1\n",
      "8            9              14             12          -2\n",
      "9           10              10              8          -2\n"
     ]
    }
   ],
   "source": [
    "import pandas as pd\n",
    "\n",
    "# Create a dictionary with the data\n",
    "data = {\n",
    "    'Participant': [1, 2, 3, 4, 5, 6, 7, 8, 9, 10],\n",
    "    'Before therapy': [10, 8, 12, 15, 6, 9, 11, 7, 14, 10],\n",
    "    'After therapy': [7, 6, 10, 12, 5, 8, 9, 6, 12, 8],\n",
    "    'Difference': [-1, -1, -1, -1, -1, -1, -1, -1, -1, -1]\n",
    "}\n",
    "\n",
    "# Create a DataFrame from the dictionary\n",
    "df1= pd.DataFrame(data)\n",
    "\n",
    "# Calculate the difference\n",
    "df1['Difference'] = df1['After therapy'] - df1['Before therapy']\n",
    "\n",
    "# Print the DataFrame\n",
    "print(df1)"
   ]
  },
  {
   "cell_type": "code",
   "execution_count": 34,
   "id": "3d006bb0",
   "metadata": {},
   "outputs": [
    {
     "name": "stdout",
     "output_type": "stream",
     "text": [
      "Wilcoxon signed-rank test statistic: 0.0\n",
      "p-value: 0.001953125\n"
     ]
    }
   ],
   "source": [
    "from scipy.stats import wilcoxon\n",
    "\n",
    "# Perform Wilcoxon signed-rank test\n",
    "statistic, p_value = wilcoxon(df1['Before therapy'], df1['After therapy'])\n",
    "\n",
    "# Print the test statistic and p-value\n",
    "print(\"Wilcoxon signed-rank test statistic:\", statistic)\n",
    "print(\"p-value:\", p_value)"
   ]
  },
  {
   "cell_type": "raw",
   "id": "91f4a029",
   "metadata": {},
   "source": [
    "conclusion:Since the p-value (0.0019) is less than the typical significance level of 0.05, we can conclude that the therapy had a significant effect on anxiety levels. This indicates that there is a statistically significant difference between the anxiety levels before and after the therapy.\n",
    "\n",
    "In summary, the Wilcoxon signed-rank test suggests that the therapy had a significant positive effect on reducing anxiety levels."
   ]
  },
  {
   "cell_type": "raw",
   "id": "b7f864ee",
   "metadata": {},
   "source": [
    "Q-9. Given the score of students in multiple exams\n",
    "\n",
    "Test the hypothesis that the mean scores of all the students are the same. If not, name the student with the highest score."
   ]
  },
  {
   "cell_type": "code",
   "execution_count": 36,
   "id": "0934644a",
   "metadata": {},
   "outputs": [
    {
     "name": "stdout",
     "output_type": "stream",
     "text": [
      "      Name  Exam 1  Exam 2  Final Exam\n",
      "0    Karan      85      90          92\n",
      "1    Deepa      70      80          85\n",
      "2  Karthik      90      85          88\n",
      "3  Chandan      75      70          75\n",
      "4   Jeevan      95      92          96\n"
     ]
    }
   ],
   "source": [
    "import pandas as pd\n",
    "\n",
    "# Create a dictionary with the data\n",
    "data = {\n",
    "    'Name': ['Karan', 'Deepa', 'Karthik', 'Chandan', 'Jeevan'],\n",
    "    'Exam 1': [85, 70, 90, 75, 95],\n",
    "    'Exam 2': [90, 80, 85, 70, 92],\n",
    "    'Final Exam': [92, 85, 88, 75, 96]\n",
    "}\n",
    "\n",
    "# Create a DataFrame from the dictionary\n",
    "df2= pd.DataFrame(data)\n",
    "\n",
    "# Print the DataFrame\n",
    "print(df2)"
   ]
  },
  {
   "cell_type": "code",
   "execution_count": 37,
   "id": "e1aead2f",
   "metadata": {},
   "outputs": [
    {
     "name": "stdout",
     "output_type": "stream",
     "text": [
      "F-statistic: 0.3236947791164659\n",
      "p-value: 0.7295954253321559\n",
      "Student with the highest score: Jeevan\n"
     ]
    }
   ],
   "source": [
    "import scipy.stats as stats\n",
    "\n",
    "# Perform one-way ANOVA\n",
    "f_statistic, p_value = stats.f_oneway(df2['Exam 1'], df2['Exam 2'], df2['Final Exam'])\n",
    "\n",
    "# Print the F-statistic and p-value\n",
    "print(\"F-statistic:\", f_statistic)\n",
    "print(\"p-value:\", p_value)\n",
    "\n",
    "# Calculate the maximum score for each student\n",
    "df2['Max Score'] = df2[['Exam 1', 'Exam 2', 'Final Exam']].max(axis=1)\n",
    "\n",
    "# Sort the DataFrame by the maximum score in descending order\n",
    "sorted_df2 = df2.sort_values(by='Max Score', ascending=False)\n",
    "\n",
    "# Get the student with the highest score\n",
    "highest_score_student = sorted_df2.iloc[0]['Name']\n",
    "\n",
    "# Print the student with the highest score\n",
    "print(\"Student with the highest score:\", highest_score_student)"
   ]
  },
  {
   "cell_type": "raw",
   "id": "5e0e3641",
   "metadata": {},
   "source": [
    "Q-10. A factory produces light bulbs, and the probability of a bulb being defective is 0.05. The factory produces a large batch of 500 light bulbs. a. What is the probability that exactly 20 bulbs are defective? b. What is the probability that at least 10 bulbs are defective? c. What is the probability that at max 15 bulbs are defective? d. On average, how many defective bulbs would you expect in a batch of 500?"
   ]
  },
  {
   "cell_type": "code",
   "execution_count": 38,
   "id": "a8f0f578",
   "metadata": {},
   "outputs": [
    {
     "name": "stdout",
     "output_type": "stream",
     "text": [
      "Probability of exactly 20 bulbs being defective: 0.0483661403058116\n"
     ]
    }
   ],
   "source": [
    "#a\n",
    "import scipy.stats as stats\n",
    "import math\n",
    "\n",
    "n = 500\n",
    "p = 0.05\n",
    "k = 20\n",
    "\n",
    "mean = n * p\n",
    "std_dev = math.sqrt(n * p * (1 - p))\n",
    "\n",
    "probability_20_defective = stats.norm.cdf(k + 0.5, loc=mean, scale=std_dev) - stats.norm.cdf(k - 0.5, loc=mean, scale=std_dev)\n",
    "print(\"Probability of exactly 20 bulbs being defective:\", probability_20_defective)"
   ]
  },
  {
   "cell_type": "code",
   "execution_count": 39,
   "id": "9452fea4",
   "metadata": {},
   "outputs": [
    {
     "name": "stdout",
     "output_type": "stream",
     "text": [
      "Probability of at least 10 bulbs being defective: 0.9992649777488151\n"
     ]
    }
   ],
   "source": [
    "#b\n",
    "k = 10\n",
    "\n",
    "probability_at_least_10_defective = stats.norm.sf(k - 0.5, loc=mean, scale=std_dev)\n",
    "print(\"Probability of at least 10 bulbs being defective:\", probability_at_least_10_defective)"
   ]
  },
  {
   "cell_type": "code",
   "execution_count": 40,
   "id": "4c9aba99",
   "metadata": {},
   "outputs": [
    {
     "name": "stdout",
     "output_type": "stream",
     "text": [
      "Probability of at most 15 bulbs being defective: 0.025626291428684733\n"
     ]
    }
   ],
   "source": [
    "#c\n",
    "k = 15\n",
    "\n",
    "probability_at_most_15_defective = stats.norm.cdf(k + 0.5, loc=mean, scale=std_dev)\n",
    "print(\"Probability of at most 15 bulbs being defective:\", probability_at_most_15_defective)"
   ]
  },
  {
   "cell_type": "code",
   "execution_count": 41,
   "id": "0e4731e7",
   "metadata": {},
   "outputs": [
    {
     "name": "stdout",
     "output_type": "stream",
     "text": [
      "Expected number of defective bulbs: 25.0\n"
     ]
    }
   ],
   "source": [
    "#d\n",
    "expected_defective_bulbs = n * p\n",
    "print(\"Expected number of defective bulbs:\", expected_defective_bulbs)"
   ]
  },
  {
   "cell_type": "raw",
   "id": "b671e1e6",
   "metadata": {},
   "source": [
    "Q-11. Given the data of a feature contributing to different classes\n",
    "\n",
    "https://drive.google.com/file/d/1mCjtYHiX--mMUjicuaP2gH3k-SnFxt8Y/view?usp=share_\n",
    "\n",
    "a. Check whether the distribution of all the classes are the same or not. \n",
    "b. Check for the equality of variance/ \n",
    "c. Which amount LDA and QDA would perform better on this data for classification and why.\n",
    "d. Check the equality of mean for between all the classes."
   ]
  },
  {
   "cell_type": "code",
   "execution_count": 42,
   "id": "d5b8380f",
   "metadata": {},
   "outputs": [
    {
     "name": "stdout",
     "output_type": "stream",
     "text": [
      "Column Names: Index(['Patient ID', ' Blood Pressure Before (mmHg)',\n",
      "       ' Blood Pressure After (mmHg)'],\n",
      "      dtype='object')\n",
      "Class Distribution:\n",
      " 128    12\n",
      "127    11\n",
      "136    11\n",
      "135     8\n",
      "130     7\n",
      "145     6\n",
      "139     6\n",
      "143     6\n",
      "124     6\n",
      "140     6\n",
      "132     6\n",
      "142     6\n",
      "131     5\n",
      "137     1\n",
      "122     1\n",
      "148     1\n",
      "120     1\n",
      "Name:  Blood Pressure Before (mmHg), dtype: int64\n",
      "Variance - Before:  43.53727272727271\n",
      "Variance - After:  47.4448484848485\n",
      "Mean - Before:  133.91\n",
      "Mean - After:  128.36\n"
     ]
    }
   ],
   "source": [
    "# Answer:\n",
    "print(\"Column Names:\", df.columns)\n",
    "\n",
    "# Check the distribution of all the classes (in this case, it's the before and after blood pressure measurements)\n",
    "class_distribution = df[' Blood Pressure Before (mmHg)'].value_counts()\n",
    "print(\"Class Distribution:\\n\", class_distribution)\n",
    "\n",
    "# Check for the equality of variance\n",
    "variance_before = df[' Blood Pressure Before (mmHg)'].var()\n",
    "variance_after = df[' Blood Pressure After (mmHg)'].var()\n",
    "print(\"Variance - Before: \", variance_before)\n",
    "print(\"Variance - After: \", variance_after)\n",
    "\n",
    "# Perform LDA and QDA\n",
    "# LDA assumes equal class covariance matrices and uses linear decision boundaries\n",
    "# QDA relaxes the assumption of equal class covariance matrices and uses quadratic decision boundaries\n",
    "\n",
    "# Check the equality of mean between all the classes\n",
    "mean_before = df[' Blood Pressure Before (mmHg)'].mean()\n",
    "mean_after = df[' Blood Pressure After (mmHg)'].mean()\n",
    "print(\"Mean - Before: \", mean_before)\n",
    "print(\"Mean - After: \", mean_after)"
   ]
  },
  {
   "cell_type": "raw",
   "id": "ce9e26cd",
   "metadata": {},
   "source": [
    "Q.12.A pharmaceutical company develops a new drug and wants to compare its\n",
    "effectiveness against a standard drug for treating a particular condition. They conduct a\n",
    "study with two groups: Group A receives the new drug, and Group B receives the standard\n",
    "drug. The company measures the improvement in a specific symptom for both groups after\n",
    "a 4-week treatment period.\n",
    "a. The company collects data from 30 patients in each group and calculates the\n",
    "mean improvement score and the standard deviation of improvement for each\n",
    "group. The mean improvement score for Group A is 2.5 with a standard\n",
    "deviation of 0.8, while the mean improvement score for Group B is 2.2 with a\n",
    "standard deviation of 0.6. Conduct a t-test to determine if there is a significant\n",
    "difference in the mean improvement scores between the two groups. Use a\n",
    "significance level of 0.05.\n",
    "b. Based on the t-test results, state whether the null hypothesis should be\n",
    "rejected or not. Provide a conclusion in the context of the study.\n",
    "\n",
    "Answer:\n",
    "To conduct a t-test and determine if there is a significant difference in the mean improvement scores between Group A and Group B, we can follow these steps:\n",
    "\n",
    "Step 1: State the hypotheses:\n",
    "\n",
    "Null Hypothesis (H₀): There is no significant difference in the mean improvement scores between Group A and Group B.\n",
    "Alternative Hypothesis (H₁): There is a significant difference in the mean improvement scores between Group A and Group B.\n",
    "    \n",
    "Step 2: Set the significance level:\n",
    "The significance level (α) is given as 0.05. This indicates that we are willing to accept a 5% chance of making a Type I error, which means rejecting the null hypothesis when it is true.\n",
    "\n",
    "Step 3: Calculate the t-statistic:\n",
    "The formula for the independent samples t-test is:\n",
    "\n",
    "t = (mean₁ - mean₂) / √[(s₁²/n₁) + (s₂²/n₂)]\n",
    "\n",
    "Where:\n",
    "mean₁ and mean₂ are the mean improvement scores for Group A and Group B, respectively.\n",
    "s₁ and s₂ are the standard deviations of improvement for Group A and Group B, respectively.\n",
    "n₁ and n₂ are the number of patients in Group A and Group B, respectively.\n",
    "\n",
    "Given the following values:\n",
    "mean₁ = 2.5, s₁ = 0.8, n₁ = 30\n",
    "mean₂ = 2.2, s₂ = 0.6, n₂ = 30\n",
    "\n",
    "We can substitute these values into the formula to calculate the t-statistic.\n",
    "\n",
    "t = (2.5 - 2.2) / √[(0.8²/30) + (0.6²/30)]=1.6438\n",
    "\n",
    "Step 4: Determine the degrees of freedom:\n",
    "The degrees of freedom (df) for an independent samples t-test is calculated as follows:\n",
    "\n",
    "df = n₁ + n₂ - 2\n",
    "\n",
    "Substituting the values: df = 30 + 30 - 2 = 58\n",
    "\n",
    "Step 5: Find the critical t-value:\n",
    "Using the significance level (α) and the degrees of freedom (df), we can find the critical t-value from a t-distribution table or a statistical software. Since α = 0.05 and the test is two-tailed,\n",
    "we will look for the critical t-value at α/2 = 0.025 with df = 58.\n",
    "\n",
    "Step 6: Compare the calculated t-value with the critical t-value:\n",
    "t-value=1.6438\n",
    "critical t-value=2.3011\n",
    "1.6438 < 2.3011\n",
    "If the calculated t-value is greater than the critical t-value, we reject the null hypothesis.\n",
    "\n",
    "Step 7: Draw a conclusion:\n",
    "There is a significant difference in the mean improvement scores between Group A and Group B."
   ]
  },
  {
   "cell_type": "code",
   "execution_count": null,
   "id": "06a7e353",
   "metadata": {},
   "outputs": [],
   "source": []
  }
 ],
 "metadata": {
  "kernelspec": {
   "display_name": "Python 3 (ipykernel)",
   "language": "python",
   "name": "python3"
  },
  "language_info": {
   "codemirror_mode": {
    "name": "ipython",
    "version": 3
   },
   "file_extension": ".py",
   "mimetype": "text/x-python",
   "name": "python",
   "nbconvert_exporter": "python",
   "pygments_lexer": "ipython3",
   "version": "3.9.13"
  }
 },
 "nbformat": 4,
 "nbformat_minor": 5
}
